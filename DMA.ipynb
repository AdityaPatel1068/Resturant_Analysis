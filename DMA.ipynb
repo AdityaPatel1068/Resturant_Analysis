{
 "cells": [
  {
   "cell_type": "markdown",
   "metadata": {},
   "source": [
    "<font size=\"5\" color=\"blue\">**Importing Libraries**</font>\n"
   ]
  },
  {
   "cell_type": "code",
   "execution_count": 1,
   "metadata": {},
   "outputs": [],
   "source": [
    "import pandas as pd\n",
    "from sklearn.preprocessing import StandardScaler\n",
    "import numpy as np\n",
    "import matplotlib.pyplot as plt\n",
    "import requests\n",
    "from sklearn.feature_selection import SelectKBest, f_regression\n",
    "from sklearn.model_selection import train_test_split\n",
    "from sklearn.linear_model import LinearRegression\n",
    "from sklearn.metrics import mean_squared_error , r2_score\n",
    "from keras.models import Sequential\n",
    "from keras.layers import Dense\n",
    "from keras.optimizers import Adam"
   ]
  },
  {
   "cell_type": "markdown",
   "metadata": {},
   "source": [
    "<font size=\"5\" color=\"blue\">**1. Loading Dataset from Github repository.**\n",
    "</font>\n"
   ]
  },
  {
   "cell_type": "code",
   "execution_count": 2,
   "metadata": {},
   "outputs": [
    {
     "name": "stdout",
     "output_type": "stream",
     "text": [
      "Resturant Data sheet ('DATA' sheet):\n",
      "             App  Take Out Service    Area Income  Town Population  \\\n",
      "count  99.000000         99.000000      99.000000        99.000000   \n",
      "mean    0.555556          0.525253   86741.717172    145353.535354   \n",
      "std     0.499433          0.501903   26711.461224     67284.245227   \n",
      "min     0.000000          0.000000   49000.000000     30000.000000   \n",
      "25%     0.000000          0.000000   66121.500000    100000.000000   \n",
      "50%     1.000000          1.000000   81394.000000    130000.000000   \n",
      "75%     1.000000          1.000000  100184.500000    190000.000000   \n",
      "max     1.000000          1.000000  165000.000000    330000.000000   \n",
      "\n",
      "       Outdoor Dining  Distance from Town Center  Monthly Revenue  \n",
      "count       99.000000                  99.000000        99.000000  \n",
      "mean         0.181818                   4.207273    287303.360429  \n",
      "std          0.387657                   1.681928    171543.931037  \n",
      "min          0.000000                   1.790000     25250.000000  \n",
      "25%          0.000000                   2.510000    152895.833333  \n",
      "50%          0.000000                   4.190000    236083.333333  \n",
      "75%          0.000000                   5.630000    407958.333333  \n",
      "max          1.000000                   7.550000    850852.965802  \n",
      "\n",
      " Estimate Price Data sheet ('resturant_price_data' sheet):\n",
      "             App  Take Out Service    Area Income  Town Population  \\\n",
      "count  11.000000         11.000000      11.000000        11.000000   \n",
      "mean    0.363636          0.636364   78418.181818    101690.909091   \n",
      "std     0.504525          0.504525   26662.401174     60460.986670   \n",
      "min     0.000000          0.000000   45000.000000     29000.000000   \n",
      "25%     0.000000          0.000000   61500.000000     69500.000000   \n",
      "50%     0.000000          1.000000   72000.000000     91000.000000   \n",
      "75%     1.000000          1.000000   95300.000000    117500.000000   \n",
      "max     1.000000          1.000000  130000.000000    252000.000000   \n",
      "\n",
      "       Outdoor Dining  Distance from Town Center  Monthly Revenue  \n",
      "count       11.000000                  11.000000              0.0  \n",
      "mean         0.454545                   4.300909              NaN  \n",
      "std          0.522233                   3.318133              NaN  \n",
      "min          0.000000                   1.000000              NaN  \n",
      "25%          0.000000                   2.000000              NaN  \n",
      "50%          0.000000                   3.000000              NaN  \n",
      "75%          1.000000                   5.655000              NaN  \n",
      "max          1.000000                  11.000000              NaN  \n"
     ]
    }
   ],
   "source": [
    "#import dataset as Excel\n",
    "# The file URL of the Excel file on GitHub\n",
    "file_url = \"https://github.com/AdityaPatel1068/DMA/raw/main/Assignment_Restaurant%20Project.xlsx\"\n",
    "\n",
    "# Download the file to a temporary location\n",
    "response = requests.get(file_url)\n",
    "with open(\"/tmp/excel_file.xlsx\", \"wb\") as f:\n",
    "    f.write(response.content)\n",
    "\n",
    "# Read the Excel file into Pandas, specifying the engine\n",
    "data_sheet_name = 'DATA'\n",
    "raw_data = pd.read_excel(\"/tmp/excel_file.xlsx\", sheet_name=data_sheet_name, engine=\"openpyxl\")\n",
    "\n",
    "# Read the 'resturant_price_data' sheet for restaurant price data\n",
    "Estimate_price_sheet_name = 'resturant_price_data'\n",
    "Estimate_price_data = pd.read_excel(\"/tmp/excel_file.xlsx\", sheet_name=Estimate_price_sheet_name, engine=\"openpyxl\")\n",
    "\n",
    "# Verify the data\n",
    "print(\"Resturant Data sheet ('DATA' sheet):\")\n",
    "print(raw_data.describe())\n",
    "\n",
    "print(\"\\n Estimate Price Data sheet ('resturant_price_data' sheet):\")\n",
    "print(Estimate_price_data.describe())"
   ]
  },
  {
   "cell_type": "markdown",
   "metadata": {},
   "source": [
    "<br><br><br><font size=\"5\" color=\"blue\">**2. Pre Processing the data**</font>\n",
    "\n",
    "\n",
    "1) <font color=\"red\">Data Cleaning </font>\n",
    "2) <font color=\"red\">Data Transformation</font>\n",
    "3) <font color=\"red\">Data Splitting</font>\n"
   ]
  },
  {
   "cell_type": "markdown",
   "metadata": {},
   "source": [
    "<br><br><br><font color=\"red\">**1. Data Cleaning**</font>\n",
    "<br> <font color=\"teal\">\n",
    "Handling missing values: Impute missing data using techniques like mean, median, or interpolation.</font>\n",
    "<br><font color=\"teal\">\n",
    "Outlier detection and treatment: Identify and handle outliers using IQR and replacing them by Mean value</font>"
   ]
  },
  {
   "cell_type": "code",
   "execution_count": 3,
   "metadata": {},
   "outputs": [
    {
     "name": "stdout",
     "output_type": "stream",
     "text": [
      "Number of missing values in each column:\n",
      "App                          0\n",
      "Take Out Service             0\n",
      "Area Income                  0\n",
      "Town Population              0\n",
      "Outdoor Dining               0\n",
      "Distance from Town Center    0\n",
      "Monthly Revenue              0\n",
      "dtype: int64\n",
      "\n",
      "Number of outliers in each column:\n",
      "App                          0\n",
      "Take Out Service             0\n",
      "Area Income                  2\n",
      "Town Population              1\n",
      "Outdoor Dining               0\n",
      "Distance from Town Center    0\n",
      "Monthly Revenue              1\n",
      "dtype: int64\n",
      "Number of outliers replaced with the mean: 4\n"
     ]
    }
   ],
   "source": [
    "### Data Cleaning \n",
    "#Missing Values & Outliers\n",
    "\n",
    "# Create a new DataFrame without the \"Restaurants\" column\n",
    "data = raw_data.drop(columns=[\"Restaurants\"])\n",
    "\n",
    "# Create a copy of the original DataFrame to keep the main data file unchanged\n",
    "cleaned_data = data.copy()\n",
    "\n",
    "\n",
    "# Calculate the number of missing values in each column\n",
    "missing_values = data.isnull().sum()\n",
    "\n",
    "# Define a function to detect outliers using the IQR method\n",
    "def detect_outliers(column):\n",
    "        if column.nunique() > 2:  # Check if it's not binary\n",
    "            Q1 = column.quantile(0.25)\n",
    "            Q3 = column.quantile(0.75)\n",
    "            IQR = Q3 - Q1\n",
    "            lower_bound = Q1 - 1.5 * IQR\n",
    "            upper_bound = Q3 + 1.5 * IQR\n",
    "            outliers = ((column < lower_bound) | (column > upper_bound))\n",
    "            return outliers.sum()\n",
    "        else:\n",
    "            return 0\n",
    "# Calculate the number of outliers in each column\n",
    "outliers_count = data.apply(detect_outliers)\n",
    "\n",
    "\n",
    "# Define function to replace outliers with the mean value using the IQR method\n",
    "def replace_outliers_with_mean(column):\n",
    "    if column.nunique() > 2:  # Check if it's not binary\n",
    "        Q1 = column.quantile(0.25)\n",
    "        Q3 = column.quantile(0.75)\n",
    "        IQR = Q3 - Q1\n",
    "        lower_bound = Q1 - 1.5 * IQR\n",
    "        upper_bound = Q3 + 1.5 * IQR\n",
    "\n",
    "        # Replace outliers with the mean of the column\n",
    "        cleaned_column = column.apply(lambda x: column.mean() if (x < lower_bound) or (x > upper_bound) else x)\n",
    "    else:\n",
    "        cleaned_column = column\n",
    "    return cleaned_column\n",
    "\n",
    "# Replace outliers with the mean in each column\n",
    "cleaned_data = cleaned_data.apply(replace_outliers_with_mean)\n",
    "outliers_replaced = data.ne(cleaned_data).sum().sum()\n",
    "\n",
    "\n",
    "# Print the results\n",
    "print(\"Number of missing values in each column:\")\n",
    "print(missing_values)\n",
    "\n",
    "print(\"\\nNumber of outliers in each column:\")\n",
    "print(outliers_count)\n",
    "\n",
    "print(f\"Number of outliers replaced with the mean: {outliers_replaced}\")"
   ]
  },
  {
   "cell_type": "markdown",
   "metadata": {},
   "source": [
    "<font color=\"orange\">Based on above results </font>\n",
    "1) <font color=\"orange\">Dataset has no null value </font>\n",
    "2) <font color=\"orange\">4 outliers from Town Population, Monthly Revenue and Area Income should be replaced by mean Values.</font>\n"
   ]
  },
  {
   "cell_type": "markdown",
   "metadata": {},
   "source": [
    "<br><br>\n",
    "<font color=\"red\">**2. Data Transformation**</font><br>\n",
    "<font color=\"teal\">Feature scaling: Scale numerical features to a standard range by standardization.<br></font>\n"
   ]
  },
  {
   "cell_type": "code",
   "execution_count": 4,
   "metadata": {},
   "outputs": [],
   "source": [
    "#Divide the dataset into target and Feature columns\n",
    "\n",
    "target_column = cleaned_data[\"Monthly Revenue\"]\n",
    "feature_columns = cleaned_data.drop(\"Monthly Revenue\", axis=1)\n",
    "\n",
    "\n",
    "# Initialize the StandardScaler\n",
    "scaler = StandardScaler()\n",
    "\n",
    "# Fit and transform the feature columns\n",
    "transformed_columns = scaler.fit_transform(feature_columns)\n"
   ]
  },
  {
   "cell_type": "markdown",
   "metadata": {},
   "source": [
    "<br><font color=\"red\">**3. Data Splitting**<br></font>\n",
    "<font color=\"teal\">Split data into training, validation, and test sets for model evaluation<br></font>\n"
   ]
  },
  {
   "cell_type": "code",
   "execution_count": 5,
   "metadata": {},
   "outputs": [],
   "source": [
    "# Split the data into training and testing sets\n",
    "from sklearn.model_selection import train_test_split\n",
    "\n",
    "X_train, X_test, y_train, y_test = train_test_split(transformed_columns, target_column, test_size=0.20, random_state=24)\n"
   ]
  },
  {
   "cell_type": "markdown",
   "metadata": {},
   "source": [
    "<br><font size=\"5\" color=\"blue\">**3. Model Selection:**<br></font>\n",
    "<font color=\"teal\">   - Linear regression and Neural Network<br></font><br>\n",
    "\n",
    "\n"
   ]
  },
  {
   "cell_type": "markdown",
   "metadata": {},
   "source": [
    "<br><font size=\"5\" color=\"blue\">**4. Model Training:**<br></font>\n",
    "<font color=\"red\">   - Train the selected model using the training dataset to learn patterns and relationships in the data<br></font><br>"
   ]
  },
  {
   "cell_type": "markdown",
   "metadata": {},
   "source": [
    "<font color=\"green\">1. Linear Regression</font>\n"
   ]
  },
  {
   "cell_type": "code",
   "execution_count": 13,
   "metadata": {},
   "outputs": [
    {
     "name": "stdout",
     "output_type": "stream",
     "text": [
      "                            OLS Regression Results                            \n",
      "==============================================================================\n",
      "Dep. Variable:        Monthly Revenue   R-squared:                       0.756\n",
      "Model:                            OLS   Adj. R-squared:                  0.735\n",
      "Method:                 Least Squares   F-statistic:                     37.12\n",
      "Date:                Wed, 18 Oct 2023   Prob (F-statistic):           3.77e-20\n",
      "Time:                        00:12:53   Log-Likelihood:                -1006.4\n",
      "No. Observations:                  79   AIC:                             2027.\n",
      "Df Residuals:                      72   BIC:                             2043.\n",
      "Df Model:                           6                                         \n",
      "Covariance Type:            nonrobust                                         \n",
      "==============================================================================\n",
      "                 coef    std err          t      P>|t|      [0.025      0.975]\n",
      "------------------------------------------------------------------------------\n",
      "const       2.841e+05   9811.284     28.952      0.000    2.64e+05    3.04e+05\n",
      "x1         -3.732e+04   1.19e+04     -3.126      0.003   -6.11e+04   -1.35e+04\n",
      "x2           1.98e+04   1.04e+04      1.898      0.062    -995.011    4.06e+04\n",
      "x3          1.055e+04   1.12e+04      0.945      0.348   -1.17e+04    3.28e+04\n",
      "x4          4.552e+04   1.03e+04      4.416      0.000     2.5e+04    6.61e+04\n",
      "x5           4.06e+04    1.3e+04      3.127      0.003    1.47e+04    6.65e+04\n",
      "x6          -6.39e+04   1.28e+04     -4.977      0.000   -8.95e+04   -3.83e+04\n",
      "==============================================================================\n",
      "Omnibus:                        3.988   Durbin-Watson:                   2.089\n",
      "Prob(Omnibus):                  0.136   Jarque-Bera (JB):                4.663\n",
      "Skew:                           0.029   Prob(JB):                       0.0971\n",
      "Kurtosis:                       4.189   Cond. No.                         2.62\n",
      "==============================================================================\n",
      "\n",
      "Notes:\n",
      "[1] Standard Errors assume that the covariance matrix of the errors is correctly specified.\n"
     ]
    }
   ],
   "source": [
    "#linear regression model\n",
    "# Initialize and train a Linear Regression model using all features\n",
    "model1 = LinearRegression()\n",
    "model1.fit(X_train, y_train)\n",
    "\n",
    "# Linear Regression Model \n",
    "y_pred1 = model1.predict(X_test)\n",
    "\n",
    "import statsmodels.api as sm\n",
    "\n",
    "# Assuming you have defined your variables X_train and y_train\n",
    "\n",
    "# Add a constant (intercept) to the features\n",
    "X_train_with_const = sm.add_constant(X_train)\n",
    "\n",
    "# Create and fit the OLS model\n",
    "model = sm.OLS(y_train, X_train_with_const)\n",
    "results = model.fit()\n",
    "\n",
    "# Print the summary including p-values\n",
    "print(results.summary())\n"
   ]
  },
  {
   "cell_type": "markdown",
   "metadata": {},
   "source": [
    "<br><font color=\"green\">2. Neural Network</font>\n"
   ]
  },
  {
   "cell_type": "code",
   "execution_count": 11,
   "metadata": {},
   "outputs": [
    {
     "name": "stdout",
     "output_type": "stream",
     "text": [
      "Model: \"sequential_1\"\n",
      "_________________________________________________________________\n",
      " Layer (type)                Output Shape              Param #   \n",
      "=================================================================\n",
      " dense_3 (Dense)             (None, 64)                448       \n",
      "                                                                 \n",
      " dense_4 (Dense)             (None, 32)                2080      \n",
      "                                                                 \n",
      " dense_5 (Dense)             (None, 1)                 33        \n",
      "                                                                 \n",
      "=================================================================\n",
      "Total params: 2561 (10.00 KB)\n",
      "Trainable params: 2561 (10.00 KB)\n",
      "Non-trainable params: 0 (0.00 Byte)\n",
      "_________________________________________________________________\n"
     ]
    },
    {
     "data": {
      "text/plain": [
       "<keras.src.callbacks.History at 0x293889630>"
      ]
     },
     "execution_count": 11,
     "metadata": {},
     "output_type": "execute_result"
    }
   ],
   "source": [
    "#Neural Network Model\n",
    "model2 = Sequential()\n",
    "model2.add(Dense(units=64, input_dim=X_train.shape[1], activation='relu'))\n",
    "model2.add(Dense(units=32, activation='relu'))\n",
    "model2.add(Dense(units=1, activation='linear'))\n",
    "\n",
    "# Compile the model\n",
    "model2.compile(loss='mean_squared_error', optimizer='adam')\n",
    "model2.summary()\n",
    "\n",
    "# Train the model\n",
    "model2.fit(X_train, y_train, epochs=500, batch_size=5, verbose=0)\n"
   ]
  },
  {
   "cell_type": "markdown",
   "metadata": {},
   "source": [
    "<br><font size=\"5\" color=\"Blue\">**5. Model Evaluation:**</font><br>\n",
    "<font color=\"red\"> - Assess the model's performance using evaluation metrics</font> <br>\n",
    "<font color=\"red\"> - MSE error</font><br>\n",
    "<font color=\"red\"> - R-squared (R²) for regression.</font><br>\n",
    "\n"
   ]
  },
  {
   "cell_type": "code",
   "execution_count": 8,
   "metadata": {},
   "outputs": [
    {
     "name": "stdout",
     "output_type": "stream",
     "text": [
      "1/1 [==============================] - 0s 56ms/step\n",
      "Mean Squared Error for Linear regression: 8297763755.269972\n",
      "Mean Squared Error for the Neural Network model: 10874739811.951977\n",
      "R-squared for Linear Regression: 0.5442572885943928\n",
      "R-squared for Neural Network: 0.40272059389713877\n"
     ]
    },
    {
     "data": {
      "image/png": "[encoded data removed]",
      "text/plain": [
       "<Figure size 720x360 with 2 Axes>"
      ]
     },
     "metadata": {
      "needs_background": "light"
     },
     "output_type": "display_data"
    }
   ],
   "source": [
    "# Evaluate the model on the testing data\n",
    "y_pred1 = model1.predict(X_test) # Linear Regression Model\n",
    "y_pred2 = model2.predict(X_test) # Neural Network Model\n",
    "\n",
    "# Calculate the Mean Squared Error to evaluate the model's performance\n",
    "mse1 = mean_squared_error(y_test, y_pred1) # Linear Regression Model\n",
    "mse2 = mean_squared_error(y_test, y_pred2) # Neural Network Model\n",
    "print(f\"Mean Squared Error for Linear regression: {mse1}\")\n",
    "print(f\"Mean Squared Error for the Neural Network model: {mse2}\")\n",
    "\n",
    "# Evaluate the models for regression\n",
    "r2_1 = r2_score(y_test, y_pred1)\n",
    "r2_2 = r2_score(y_test, y_pred2)\n",
    "print(f\"R-squared for Linear Regression: {r2_1}\")\n",
    "print(f\"R-squared for Neural Network: {r2_2}\")\n",
    "\n",
    "\n",
    "\n",
    "\n",
    "\n",
    "import matplotlib.pyplot as plt\n",
    "\n",
    "# Define the models and their corresponding MSE and R2 values\n",
    "models = [\"Linear Regression\", \"Neural Network\"]\n",
    "mse_values = [mse1, mse2]\n",
    "r2_values = [r2_1, r2_2]\n",
    "\n",
    "# Create subplots for MSE and R2\n",
    "plt.figure(figsize=(10, 5))\n",
    "\n",
    "# Bar chart for MSE\n",
    "plt.subplot(1, 2, 1)\n",
    "plt.bar(models, mse_values, color=['blue', 'green'])\n",
    "plt.title('Mean Squared Error (MSE)')\n",
    "plt.ylabel('MSE')\n",
    "\n",
    "# Bar chart for R2\n",
    "plt.subplot(1, 2, 2)\n",
    "plt.bar(models, r2_values, color=['blue', 'green'])\n",
    "plt.title('R-squared (R2)')\n",
    "plt.ylabel('R2')\n",
    "\n",
    "# Adjust layout\n",
    "plt.tight_layout()\n",
    "\n",
    "# Show the plot\n",
    "plt.show()\n"
   ]
  },
  {
   "cell_type": "markdown",
   "metadata": {},
   "source": [
    "<br><br><font size=\"5\" color=\"Blue\">**6. Model Testing:**</font>\n",
    "<font color=\"teal\"><br>- Evaluate the model on a restaurant_price_data dataset to assess its generalization to new, unseen data.</font> \n",
    "\n"
   ]
  },
  {
   "cell_type": "code",
   "execution_count": 9,
   "metadata": {},
   "outputs": [
    {
     "name": "stdout",
     "output_type": "stream",
     "text": [
      "1/1 [==============================] - 0s 16ms/step\n",
      "Original Data with Predicted Prices (Linear Regression and Neural Network):\n",
      "Restaurants  Predicted_Price_Linear  Predicted_Price_Neural\n",
      "        PPI           154017.941560            29168.218750\n",
      "        TRE           398779.116627           386294.937500\n",
      "        GGT           365408.652827           348224.218750\n",
      "        MND           327279.894986           288490.406250\n",
      "        WRT           549942.658990           523541.343750\n",
      "        GFR           197322.649469           175177.031250\n",
      "        WWW           410709.133116           314757.781250\n",
      "        QWE           236309.735477           179476.875000\n",
      "        FGR           171534.572003           152448.843750\n",
      "        SSC           128441.842383            20471.687500\n",
      "        SAE           310227.451432           119573.617188\n"
     ]
    }
   ],
   "source": [
    "# Preprocess the new data (assuming you used 'scaler' for feature scaling)\n",
    "new_data = Estimate_price_data.drop([\"Monthly Revenue\", \"Restaurants\"], axis=1)  # Drop both the target column and \"Restaurants\"\n",
    "new_data_processed = scaler.transform(new_data)\n",
    "\n",
    "# Predict prices using Linear Regression\n",
    "predicted_prices_linear = model1.predict(new_data_processed)\n",
    "\n",
    "# Predict prices using Neural Network\n",
    "predicted_prices_neural = model2.predict(new_data_processed)\n",
    "\n",
    "# Add columns for predicted prices to the original DataFrame\n",
    "Estimate_price_data[\"Predicted_Price_Linear\"] = predicted_prices_linear\n",
    "Estimate_price_data[\"Predicted_Price_Neural\"] = predicted_prices_neural\n",
    "Estimate_price_data.drop([\"Monthly Revenue\", \"App\", \"Take Out Service\", \"Area Income\", \"Town Population\", \"Outdoor Dining\", \"Distance from Town Center\"], axis=1, inplace=True)\n",
    "\n",
    "\n",
    "# Print the DataFrame with updated columns for predictions\n",
    "print(\"Original Data with Predicted Prices (Linear Regression and Neural Network):\")\n",
    "print(Estimate_price_data.to_string(index=False))\n"
   ]
  },
  {
   "cell_type": "markdown",
   "metadata": {},
   "source": [
    "<br><br><font size=\"5\" color=\"Blue\">**7. Visualization:**</font>\n"
   ]
  },
  {
   "cell_type": "code",
   "execution_count": 10,
   "metadata": {},
   "outputs": [
    {
     "data": {
      "image/png": "[encoded data removed]",
      "text/plain": [
       "<Figure size 720x864 with 2 Axes>"
      ]
     },
     "metadata": {
      "needs_background": "light"
     },
     "output_type": "display_data"
    }
   ],
   "source": [
    "import matplotlib.pyplot as plt\n",
    "\n",
    "# Create a figure with two subplots\n",
    "fig, (ax1, ax2) = plt.subplots(2, 1, figsize=(10, 12))\n",
    "\n",
    "# Subplot 1: Line graph\n",
    "# Data\n",
    "restaurants = Estimate_price_data[\"Restaurants\"]\n",
    "predicted_linear = Estimate_price_data[\"Predicted_Price_Linear\"]\n",
    "predicted_neural = Estimate_price_data[\"Predicted_Price_Neural\"]\n",
    "\n",
    "# Plot the predicted prices from Linear Regression with stars\n",
    "ax1.plot(restaurants, predicted_linear, marker='*', linestyle='-', color='b', label='Linear Regression')\n",
    "\n",
    "# Plot the predicted prices from Neural Network with stars\n",
    "ax1.plot(restaurants, predicted_neural, marker='*', linestyle='-', color='g', label='Neural Network')\n",
    "\n",
    "# Set labels and title\n",
    "ax1.set_xlabel('Restaurants')\n",
    "ax1.set_ylabel('Predicted Price')\n",
    "ax1.set_title('Predicted Prices by Model')\n",
    "\n",
    "# Add a legend\n",
    "ax1.legend()\n",
    "\n",
    "# Subplot 2: Bar graph\n",
    "# Data\n",
    "restaurants = Estimate_price_data[\"Restaurants\"]\n",
    "predicted_linear = Estimate_price_data[\"Predicted_Price_Linear\"]\n",
    "predicted_neural = Estimate_price_data[\"Predicted_Price_Neural\"]\n",
    "\n",
    "# Bar positions for Linear Regression\n",
    "x1 = range(len(restaurants))\n",
    "\n",
    "# Bar positions for Neural Network\n",
    "x2 = [pos + 0.4 for pos in x1]\n",
    "\n",
    "# Create bars\n",
    "ax2.bar(x1, predicted_linear, width=0.4, label='Linear Regression', align='center', color='b')\n",
    "ax2.bar(x2, predicted_neural, width=0.4, label='Neural Network', align='edge', color='g')\n",
    "\n",
    "# Set labels and title\n",
    "ax2.set_xlabel('Restaurants')\n",
    "ax2.set_ylabel('Predicted Price')\n",
    "ax2.set_title('Predicted Prices by Model with Comparison Line')\n",
    "\n",
    "# Set x-axis labels\n",
    "ax2.set_xticks(x1)\n",
    "ax2.set_xticklabels(restaurants, rotation=90)\n",
    "\n",
    "# Add a legend\n",
    "ax2.legend()\n",
    "\n",
    "# Adjust spacing between subplots\n",
    "plt.tight_layout()\n",
    "\n",
    "# Show the combined figure\n",
    "plt.show()\n"
   ]
  },
  {
   "cell_type": "markdown",
   "metadata": {},
   "source": [
    "<br><br><font size=\"5\" color=\"Blue\">8. **Documentation and Reporting:**</font>\n",
    "<BR>\n",
    "    - Document the entire pipeline, including data preprocessing, model details, hyperparameters, and evaluation results.\n"
   ]
  }
 ],
 "metadata": {
  "kernelspec": {
   "display_name": "Python 3",
   "language": "python",
   "name": "python3"
  },
  "language_info": {
   "codemirror_mode": {
    "name": "ipython",
    "version": 3
   },
   "file_extension": ".py",
   "mimetype": "text/x-python",
   "name": "python",
   "nbconvert_exporter": "python",
   "pygments_lexer": "ipython3",
   "version": "3.10.4"
  }
 },
 "nbformat": 4,
 "nbformat_minor": 2
}
